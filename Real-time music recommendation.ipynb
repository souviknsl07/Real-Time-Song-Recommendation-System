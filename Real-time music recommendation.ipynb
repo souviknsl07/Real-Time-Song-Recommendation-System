{
 "cells": [
  {
   "cell_type": "code",
   "execution_count": 0,
   "metadata": {
    "application/vnd.databricks.v1+cell": {
     "cellMetadata": {
      "byteLimit": 2048000,
      "rowLimit": 10000
     },
     "inputWidgets": {},
     "nuid": "700efc81-1c97-45fa-98c4-a958029234dc",
     "showTitle": false,
     "tableResultSettingsMap": {},
     "title": ""
    }
   },
   "outputs": [],
   "source": [
    "%scala\n",
    "import org.apache.spark.sql.functions._\n",
    "import org.apache.spark.sql.types._\n",
    "import org.apache.spark.ml.recommendation.ALSModel\n",
    "\n",
    "// Define schema\n",
    "val schema = StructType(Array(\n",
    "  StructField(\"user_id\", IntegerType),\n",
    "  StructField(\"user_name\", StringType),\n",
    "  StructField(\"track_id\", IntegerType),\n",
    "  StructField(\"like\", IntegerType),\n",
    "  StructField(\"timestamp\", DoubleType)\n",
    "))\n",
    "\n",
    "val aws_access_key = dbutils.secrets.get(scope=\"aws\", key=\"aws-access-key-id\")\n",
    "val aws_secret_key = dbutils.secrets.get(scope=\"aws\", key=\"aws-secret-access-key\")\n",
    "\n",
    "// Set AWS credentials\n",
    "spark.sparkContext.hadoopConfiguration.set(\"fs.s3a.access.key\", aws_access_key)\n",
    "spark.sparkContext.hadoopConfiguration.set(\"fs.s3a.secret.key\", aws_secret_key)\n",
    "spark.sparkContext.hadoopConfiguration.set(\"fs.s3a.endpoint\", \"s3.amazonaws.com\")\n",
    "\n",
    "// Load ALS model\n",
    "val alsModel = ALSModel.load(\"s3a://souvik-dev-stage/ALSModel\")\n",
    "\n",
    "// Read raw streaming text data from S3\n",
    "val rawImpressions = spark.readStream\n",
    "  .format(\"text\")\n",
    "  .option(\"wholeText\", \"true\")\n",
    "  .option(\"checkpointLocation\", \"s3a://souvik-dev-stage/checkpoint_new_events/\")\n",
    "  .load(\"s3a://souvik-dev-stage/music-user-impressions/2025/05/08/20/\")\n",
    "\n",
    "// Split concatenated JSON objects using regex and explode\n",
    "val splitJsons = rawImpressions.select(\n",
    "  explode(\n",
    "    split(col(\"value\"), \"\"\"(?<=\\})(?=\\{)\"\"\")\n",
    "  ).alias(\"json_str\")\n",
    ")\n",
    "\n",
    "// Parse the JSON and add event_date column\n",
    "val parsedImpressions = splitJsons\n",
    "  .select(from_json(col(\"json_str\"), schema).alias(\"data\"))\n",
    "  .select(\"data.*\")\n",
    "  .withColumn(\"event_date\", to_date(from_unixtime(col(\"timestamp\"))))\n"
   ]
  },
  {
   "cell_type": "code",
   "execution_count": 0,
   "metadata": {
    "application/vnd.databricks.v1+cell": {
     "cellMetadata": {
      "byteLimit": 2048000,
      "rowLimit": 10000
     },
     "inputWidgets": {},
     "nuid": "7b97bd90-4ac5-43b3-9fb4-b164aff89813",
     "showTitle": false,
     "tableResultSettingsMap": {},
     "title": ""
    }
   },
   "outputs": [],
   "source": [
    "%scala\n",
    "import org.apache.spark.ml.recommendation.ALSModel\n",
    "import org.apache.spark.sql.functions._\n",
    "import org.apache.spark.sql.expressions.Window\n",
    "import org.apache.spark.sql.streaming.Trigger\n",
    "\n",
    "// Load pre-trained ALS model\n",
    "val alsModel = ALSModel.load(\"s3a://souvik-dev-stage/ALSModel\")\n",
    "\n",
    "// Get distinct users from the parsed impressions\n",
    "val users = parsedImpressions.select(\"user_id\", \"event_date\").distinct()\n",
    "\n",
    "// Get top 5 recommendations for all users\n",
    "val recommendations = alsModel.recommendForAllUsers(5)\n",
    "\n",
    "// Flatten the recommendation array and extract fields\n",
    "val flattened = recommendations\n",
    "  .withColumn(\"rec\", explode(col(\"recommendations\")))\n",
    "  .select(\n",
    "    col(\"user_id\"),\n",
    "    col(\"rec.track_id\").alias(\"track_id\"),\n",
    "    col(\"rec.rating\").alias(\"rating\")\n",
    "  )\n",
    "\n",
    "// Define window spec for ranking\n",
    "val windowSpec = Window.partitionBy(\"user_id\").orderBy(col(\"rating\").desc)\n",
    "\n",
    "// Add ranking\n",
    "val ranked = flattened\n",
    "  .withColumn(\"rank\", row_number().over(windowSpec))\n",
    "\n",
    "// Enrich with event_date (join with original user list)\n",
    "val enriched = users.join(ranked, Seq(\"user_id\"), \"leftsemi\")\n",
    "  .select(\"user_id\", \"track_id\", \"rating\", \"rank\", \"event_date\")\n",
    "\n",
    "// Write to S3 with partition by event_date\n",
    "enriched.writeStream\n",
    "  .format(\"parquet\")\n",
    "  .outputMode(\"append\")\n",
    "  .partitionBy(\"event_date\")\n",
    "  .option(\"path\", \"s3a://souvik-dev-stage/user_recommendations/collaborative/\")\n",
    "  .option(\"checkpointLocation\", \"s3a://souvik-dev-stage/checkpoint_recommendation/collaborative/\")\n",
    "  .trigger(Trigger.Once())\n",
    "  .start()\n",
    "  .awaitTermination()\n"
   ]
  },
  {
   "cell_type": "code",
   "execution_count": 0,
   "metadata": {
    "application/vnd.databricks.v1+cell": {
     "cellMetadata": {
      "byteLimit": 2048000,
      "rowLimit": 10000
     },
     "inputWidgets": {},
     "nuid": "0c288e00-783f-46cc-8085-84edd4036fb9",
     "showTitle": false,
     "tableResultSettingsMap": {},
     "title": ""
    }
   },
   "outputs": [],
   "source": [
    "%scala\n",
    "val new_data = parsedImpressions.select(\"user_id\", \"track_id\", \"like\")\n",
    "\n",
    "new_data.writeStream \n",
    "    .format(\"csv\") \n",
    "    .outputMode(\"append\") \n",
    "    .option(\"path\", \"s3a://souvik-dev-stage/new_user_data/\") \n",
    "    .option(\"checkpointLocation\", \"s3a://souvik-dev-stage/checkpoint_new_data/\") \n",
    "    .option(\"header\", \"true\")\n",
    "    .trigger(Trigger.Once()) \n",
    "    .start() \n",
    "    .awaitTermination()"
   ]
  },
  {
   "cell_type": "code",
   "execution_count": 0,
   "metadata": {
    "application/vnd.databricks.v1+cell": {
     "cellMetadata": {
      "byteLimit": 2048000,
      "rowLimit": 10000
     },
     "inputWidgets": {},
     "nuid": "02bc464d-c0f5-4de7-aa9c-1de02cf5d31e",
     "showTitle": false,
     "tableResultSettingsMap": {},
     "title": ""
    }
   },
   "outputs": [],
   "source": [
    "# out = spark.read.parquet('s3a://souvik-dev-stage/user_recommendations/')\n",
    "# out.display()"
   ]
  },
  {
   "cell_type": "markdown",
   "metadata": {
    "application/vnd.databricks.v1+cell": {
     "cellMetadata": {},
     "inputWidgets": {},
     "nuid": "b7f55a4a-0db2-44f0-b8b9-6a75526fd146",
     "showTitle": false,
     "tableResultSettingsMap": {},
     "title": ""
    }
   },
   "source": [
    "## Content based recommendation"
   ]
  },
  {
   "cell_type": "code",
   "execution_count": 0,
   "metadata": {
    "application/vnd.databricks.v1+cell": {
     "cellMetadata": {
      "byteLimit": 2048000,
      "rowLimit": 10000
     },
     "inputWidgets": {},
     "nuid": "f3248a7a-4c44-42d9-8752-a9ab35ed3ea1",
     "showTitle": false,
     "tableResultSettingsMap": {},
     "title": ""
    }
   },
   "outputs": [],
   "source": []
  }
 ],
 "metadata": {
  "application/vnd.databricks.v1+notebook": {
   "computePreferences": null,
   "dashboards": [],
   "environmentMetadata": {
    "base_environment": "",
    "environment_version": "1"
   },
   "inputWidgetPreferences": null,
   "language": "python",
   "notebookMetadata": {
    "mostRecentlyExecutedCommandWithImplicitDF": {
     "commandId": 770156792713982,
     "dataframes": [
      "_sqldf"
     ]
    },
    "pythonIndentUnit": 4
   },
   "notebookName": "Real-time music recommendation",
   "widgets": {}
  },
  "language_info": {
   "name": "python"
  }
 },
 "nbformat": 4,
 "nbformat_minor": 0
}
